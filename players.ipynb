{
 "cells": [
  {
   "cell_type": "code",
   "execution_count": 3,
   "id": "bcf28c02",
   "metadata": {},
   "outputs": [
    {
     "name": "stdout",
     "output_type": "stream",
     "text": [
      "                      2           4                  6                 8  \\\n",
      "name        CeeDee Lamb  A.J. Brown  Amon-Ra St. Brown  Justin Jefferson   \n",
      "position             WR          WR                 WR                WR   \n",
      "team                DAL         PHI                DET               MIN   \n",
      "opp                 WAS         NYG                MIN               DET   \n",
      "salary             9300        8700               8600              8500   \n",
      "projection        20.99        17.8              13.29             19.97   \n",
      "\n",
      "                     10            15             16          18  \\\n",
      "name        Jalen Hurts  Dak Prescott  Davante Adams  Puka Nacua   \n",
      "position             QB            QB             WR          WR   \n",
      "team                PHI           DAL             LV         LAR   \n",
      "opp                 NYG           WAS            DEN          SF   \n",
      "salary             8100          8000           7900        7800   \n",
      "projection        24.04         25.01          17.34        8.69   \n",
      "\n",
      "                       22            24  ...         1134            1144  \\\n",
      "name        Rachaad White  Deebo Samuel  ...  Davis Allen  Brycen Hopkins   \n",
      "position               RB            WR  ...           TE              TE   \n",
      "team                   TB            SF  ...          LAR             LAR   \n",
      "opp                   CAR           LAR  ...           SF              SF   \n",
      "salary               7600          7600  ...         2500            2500   \n",
      "projection           14.5          6.17  ...         4.09             1.8   \n",
      "\n",
      "                    1152             1154        1168              1178  \\\n",
      "name        Luke Farrell  Brenton Strange  John Bates  Luke Schoonmaker   \n",
      "position              TE               TE          TE                TE   \n",
      "team                 JAX              JAX         WAS               DAL   \n",
      "opp                  TEN              TEN         DAL               WAS   \n",
      "salary              2500             2500        2500              2500   \n",
      "projection          2.09             1.02        2.82              0.97   \n",
      "\n",
      "                         1180       1186    1187        1188  \n",
      "name        Peyton Hendershot  Cardinals  Giants  Commanders  \n",
      "position                   TE        DST     DST         DST  \n",
      "team                      DAL        ARI     NYG         WAS  \n",
      "opp                       WAS        SEA     PHI         DAL  \n",
      "salary                   2500       2400    2300        2200  \n",
      "projection               2.15       5.98    5.56        5.02  \n",
      "\n",
      "[6 rows x 290 columns]\n"
     ]
    }
   ],
   "source": [
    "import pandas as pd\n",
    "from dfs import fetch_dk_players\n",
    "\n",
    "data = fetch_dk_players()\n",
    "df = pd.DataFrame(data)\n",
    "print(df)"
   ]
  }
 ],
 "metadata": {
  "kernelspec": {
   "display_name": "ASI_VENV",
   "language": "python",
   "name": "python3"
  },
  "language_info": {
   "codemirror_mode": {
    "name": "ipython",
    "version": 3
   },
   "file_extension": ".py",
   "mimetype": "text/x-python",
   "name": "python",
   "nbconvert_exporter": "python",
   "pygments_lexer": "ipython3",
   "version": "3.8.10"
  }
 },
 "nbformat": 4,
 "nbformat_minor": 5
}
